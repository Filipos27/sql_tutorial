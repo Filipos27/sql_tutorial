{
 "cells": [
  {
   "cell_type": "markdown",
   "metadata": {},
   "source": [
    "# SQL databse design"
   ]
  },
  {
   "cell_type": "markdown",
   "metadata": {},
   "source": [
    "### Deciding fact and dimension tables\n",
    "Imagine that you love running and data. It's only natural that you begin collecting data on your weekly running routine. You're most concerned with tracking how long you are running each week. You also record the route and the distances of your runs. You gather this data and put it into one table called Runs with the following schema:\n",
    "\n",
    "runs\n",
    "- duration_mins - float\n",
    "- week - int\n",
    "- month - varchar(160)\n",
    "- year - int\n",
    "- park_name - varchar(160)\n",
    "- city_name - varchar(160)\n",
    "- distance_km - float\n",
    "- route_name - varchar(160)\n",
    "\n",
    "After learning about dimensional modeling, you decide to restructure the schema for the database. Runs has been pre-loaded for you."
   ]
  },
  {
   "cell_type": "code",
   "execution_count": null,
   "metadata": {},
   "outputs": [],
   "source": [
    "#Create a route dimension table\n",
    "CREATE TABLE route(\n",
    "\troute_id INTEGER PRIMARY KEY,\n",
    "    route_name VARCHAR(160) NOT NULL,\n",
    "    city_name VARCHAR(160) NOT NULL,\n",
    "    distance_km float NOT NULL,\n",
    "    park_name VARCHAR(160) NOT NULL\n",
    ");\n",
    "#Create a week dimension table\n",
    "CREATE TABLE week(\n",
    "\tweek_id INTEGER PRIMARY KEY,\n",
    "    week INTEGER NOT NULL,\n",
    "    month VARCHAR(160) NOT NULL,\n",
    "    year INTEGER NOT NULL\n",
    ");"
   ]
  },
  {
   "cell_type": "markdown",
   "metadata": {},
   "source": [
    "### Querying the dimensional model\n",
    "Here it is! The schema reorganized using the dimensional model: \n",
    "\n",
    "Let's try to run a query based on this schema. How about we try to find the number of minutes we ran in July, 2019? We'll break this up in two steps. First, we'll get the total number of minutes recorded in the database. Second, we'll narrow down that query to week_id's from July, 2019."
   ]
  },
  {
   "cell_type": "code",
   "execution_count": null,
   "metadata": {},
   "outputs": [],
   "source": [
    "SELECT \n",
    "#Get the total duration of all runs\n",
    "\tSUM(duration_mins)\n",
    "FROM \n",
    "\truns_fact\n",
    "#Get all the week_id's that are from July, 2019\n",
    "INNER JOIN week_dim ON week_dim.week_id = runs_fact.week_id\n",
    "WHERE month = 'July' and year = '2019';"
   ]
  },
  {
   "cell_type": "markdown",
   "metadata": {},
   "source": [
    "### Adding foreign keys\n",
    "Foreign key references are essential to both the snowflake and star schema. When creating either of these schemas, correctly setting up the foreign keys is vital because they connect dimensions to the fact table. They also enforce a one-to-many relationship, because unless otherwise specified, a foreign key can appear more than once in a table and primary key can appear only once.\n",
    "\n",
    "The fact_booksales table has three foreign keys: book_id, time_id, and store_id. In this exercise, the four tables that make up the star schema below have been loaded. However, the foreign keys still need to be added."
   ]
  },
  {
   "cell_type": "code",
   "execution_count": null,
   "metadata": {},
   "outputs": [],
   "source": [
    "#Add the book_id foreign key\n",
    "ALTER TABLE fact_booksales ADD CONSTRAINT sales_book\n",
    "    FOREIGN KEY (book_id) REFERENCES dim_book_star (book_id);\n",
    "    \n",
    "#Add the time_id foreign key\n",
    "ALTER TABLE fact_booksales ADD CONSTRAINT sales_time\n",
    "   FOREIGN KEY (time_id) REFERENCES dim_time_star (time_id);\n",
    "    \n",
    "#Add the store_id foreign key\n",
    "ALTER TABLE fact_booksales ADD CONSTRAINT sales_store\n",
    "   FOREIGN KEY (store_id) REFERENCES dim_store_star (store_id);"
   ]
  },
  {
   "cell_type": "markdown",
   "metadata": {},
   "source": [
    "### Extending the book dimension\n",
    "In the video, we saw how the book dimension differed between the star and snowflake schema. The star schema's dimension table for books, dim_book_star, has been loaded and below is the snowflake schema of the book dimension. \n",
    "\n",
    "In this exercise, you are going to extend the star schema to meet part of the snowflake schema's criteria. Specifically, you will create dim_author from the data provided in dim_book_star."
   ]
  },
  {
   "cell_type": "code",
   "execution_count": null,
   "metadata": {},
   "outputs": [],
   "source": [
    "#Create dim_author with an author column\n",
    "CREATE TABLE dim_author(\n",
    "    author varchar(256)  NOT NULL\n",
    ");\n",
    "\n",
    "#Insert authors into the new table\n",
    "INSERT INTO dim_author\n",
    "SELECT distinct(author) FROM dim_book_star;\n",
    "#Add a primary key \n",
    "ALTER TABLE dim_author ADD COLUMN author_id SERIAL PRIMARY KEY;\n",
    "\n",
    "#Output the new table\n",
    "SELECT * FROM dim_author;"
   ]
  },
  {
   "cell_type": "markdown",
   "metadata": {},
   "source": [
    "### Querying the star schema\n",
    "The novel genre hasn't been selling as well as your company predicted. To help remedy this, you've been tasked to run some analytics on the novel genre to find which areas the Sales team should target. To begin, you want to look at the total amount of sales made in each state from books in the novel genre."
   ]
  },
  {
   "cell_type": "code",
   "execution_count": null,
   "metadata": {},
   "outputs": [],
   "source": [
    "#Output each state and their total sales_amount\n",
    "SELECT dim_store_star.state, sum(sales_amount)\n",
    "FROM fact_booksales\n",
    "#Join to get book information\n",
    "    JOIN dim_book_star on  dim_book_star.book_id= fact_booksales.book_id\n",
    "#Join to get store informfaation\n",
    "    JOIN dim_store_star on dim_store_star.store_id = fact_booksales.store_id\n",
    "#Get all books with in the novel genre\n",
    "WHERE  \n",
    "    dim_book_star.genre = 'novel'\n",
    "#Group results by state\n",
    "GROUP BY\n",
    "    dim_store_star.state;"
   ]
  },
  {
   "cell_type": "markdown",
   "metadata": {},
   "source": [
    "### Querying the snowflake schema\n",
    "Imagine that you didn't have the data warehouse set up. Instead, you'll have to run this query on the company's operational database, which means you'll have to rewrite the previous query with the following snowflake schema"
   ]
  },
  {
   "cell_type": "code",
   "execution_count": null,
   "metadata": {},
   "outputs": [],
   "source": [
    "#Output each state and their total sales_amount\n",
    "SELECT dim_state_sf.state, sum(sales_amount)\n",
    "FROM fact_booksales\n",
    "#Joins for genre\n",
    "    JOIN dim_book_sf on dim_book_sf.book_id = fact_booksales.book_id\n",
    "    JOIN dim_genre_sf on dim_genre_sf.genre_id = dim_book_sf.genre_id\n",
    "#Joins for state \n",
    "    JOIN dim_store_sf on dim_store_sf.store_id = fact_booksales.store_id \n",
    "    JOIN dim_city_sf on dim_city_sf.city_id = dim_store_sf.city_id\n",
    "\tJOIN dim_state_sf on  dim_state_sf.state_id = dim_city_sf.state_id\n",
    "#Get all books with in the novel genre and group the results by state\n",
    "WHERE  \n",
    "    dim_genre_sf.genre = 'novel'\n",
    "GROUP BY\n",
    "    dim_state_sf.state;"
   ]
  },
  {
   "cell_type": "markdown",
   "metadata": {},
   "source": [
    "### Updating countries\n",
    "Going through the company data, you notice there are some inconsistencies in the store addresses. These probably occurred during data entry, where people fill in fields using different naming conventions. This can be especially seen in the country field, and you decide that countries should be represented by their abbreviations. The only countries in the database are Canada and the United States, which should be represented as USA and CA.\n",
    "\n",
    "In this exercise, you will compare the records that need to be updated in order to do this task on the star and snowflake schema. dim_store_star and dim_country_sf have been loaded."
   ]
  },
  {
   "cell_type": "code",
   "execution_count": null,
   "metadata": {},
   "outputs": [],
   "source": [
    "#Output records that need to be updated in the star schema\n",
    "SELECT * FROM dim_store_star\n",
    "WHERE country != 'USA' AND country !='CA';"
   ]
  },
  {
   "cell_type": "markdown",
   "metadata": {},
   "source": [
    "### Extending the snowflake schema\n",
    "The company is thinking about extending their business beyond bookstores in Canada and the US. Particularly, they want to expand to a new continent. In preparation, you decide a continent field is needed when storing the addresses of stores.\n",
    "\n",
    "Luckily, you have a snowflake schema in this scenario. As we discussed in the video, the snowflake schema is typically faster to extend while ensuring data consistency. Along with dim_country_sf, a table called dim_continent_sf has been loaded. It contains the only continent currently needed, North America, and a primary key. In this exercise, you'll need to extend dim_country_sf to reference dim_continent_sf."
   ]
  },
  {
   "cell_type": "code",
   "execution_count": null,
   "metadata": {},
   "outputs": [],
   "source": [
    "#Add a continent_id column with default value of 1\n",
    "ALTER TABLE dim_country_sf\n",
    "ADD continent_id int NOT NULL DEFAULT(1);\n",
    "\n",
    "#Add the foreign key constraint\n",
    "ALTER TABLE dim_country_sf ADD CONSTRAINT country_continent\n",
    "   FOREIGN KEY (continent_id) REFERENCES dim_continent_sf(continent_id);\n",
    "#Output updated table\n",
    "SELECT * FROM dim_country_sf;"
   ]
  },
  {
   "cell_type": "markdown",
   "metadata": {},
   "source": [
    "### Converting to 1NF\n",
    "In the next three exercises, you'll be working through different tables belonging to a car rental company. Your job is to explore different schemas and gradually increase the normalization of these schemas through the different normal forms. At this stage, we're not worried about relocating the data, but rearranging the tables.\n",
    "\n",
    "A table called customers has been loaded, which holds information about customers and the cars they have rented."
   ]
  },
  {
   "cell_type": "code",
   "execution_count": null,
   "metadata": {},
   "outputs": [],
   "source": [
    "#Create a new table to hold the cars rented by customers\n",
    "CREATE TABLE cust_rentals (\n",
    "  customer_id INT NOT NULL,\n",
    "  car_id VARCHAR(128) NULL,\n",
    "  invoice_id VARCHAR(128) NULL\n",
    ");\n",
    "\n",
    "#Drop column from customers table to satisfy 1NF\n",
    "ALTER TABLE customers\n",
    "DROP COLUMN cars_rented,\n",
    "DROP COLUMN invoice_id;"
   ]
  },
  {
   "cell_type": "markdown",
   "metadata": {},
   "source": [
    "### Converting to 2NF\n",
    "Let's try normalizing a bit more. In the last exercise, you created a table holding customer_ids and car_ids. This has been expanded upon and the resulting table, customer_rentals, has been loaded for you. Since you've got 1NF down, it's time for 2NF."
   ]
  },
  {
   "cell_type": "code",
   "execution_count": null,
   "metadata": {},
   "outputs": [],
   "source": [
    "#Create a new table to satisfy 2NF\n",
    "CREATE TABLE cars (\n",
    "  car_id VARCHAR(256) NULL,\n",
    "  model VARCHAR(128),\n",
    "  manufacturer VARCHAR(128),\n",
    "  type_car VARCHAR(128),\n",
    "  condition VARCHAR(128),\n",
    "  color VARCHAR(128)\n",
    ");\n",
    "\n",
    "#Drop columns in customer_rentals to satisfy 2NF\n",
    "ALTER TABLE customer_rentals\n",
    "DROP COLUMN model,\n",
    "DROP COLUMN manufacturer, \n",
    "DROP COLUMN type_car,\n",
    "DROP COLUMN condition,\n",
    "DROP COLUMN color;"
   ]
  },
  {
   "cell_type": "markdown",
   "metadata": {},
   "source": [
    "### Converting to 3NF\n",
    "Last, but not least, we are at 3NF. In the last exercise, you created a table holding car_idss and car attributes. This has been expanded upon. For example, car_id is now a primary key. The resulting table, rental_cars, has been loaded for you."
   ]
  },
  {
   "cell_type": "code",
   "execution_count": null,
   "metadata": {},
   "outputs": [],
   "source": [
    "#Create a new table to satisfy 3NF\n",
    "CREATE TABLE  car_model(\n",
    "  model VARCHAR(128),\n",
    "  manufacturer VARCHAR(128),\n",
    "  type_car VARCHAR(128)\n",
    ");\n",
    "\n",
    "#Drop columns in rental_cars to satisfy 3NF\n",
    "ALTER TABLE rental_cars\n",
    "DROP COLUMN manufacturer, \n",
    "DROP COLUMN type_car;"
   ]
  },
  {
   "cell_type": "markdown",
   "metadata": {},
   "source": [
    "### Viewing views\n",
    "Because views are very useful, it's common to end up with many of them in your database. It's important to keep track of them so that database users know what is available to them.\n",
    "\n",
    "The goal of this exercise is to get familiar with viewing views within a database and interpreting their purpose. This is a skill needed when writing database documentation or organizing views."
   ]
  },
  {
   "cell_type": "code",
   "execution_count": null,
   "metadata": {},
   "outputs": [],
   "source": [
    "#Get all non-systems views\n",
    "SELECT * FROM information_schema.views\n",
    "WHERE table_schema NOT IN ('pg_catalog', 'information_schema');"
   ]
  },
  {
   "cell_type": "markdown",
   "metadata": {},
   "source": [
    "### Creating and querying a view\n",
    "Have you ever found yourself running the same query over and over again? Maybe, you used to keep a text copy of the query in your desktop notes app, but that was all before you knew about views!\n",
    "\n",
    "In these Pitchfork reviews, we're particularly interested in high-scoring reviews and if there's a common thread between the works that get high scores. In this exercise, you'll make a view to help with this analysis so that we don't have to type out the same query often to get these high-scoring reviews."
   ]
  },
  {
   "cell_type": "code",
   "execution_count": null,
   "metadata": {},
   "outputs": [],
   "source": [
    "#Create a view for reviews with a score above 9\n",
    "CREATE VIEW high_scores AS\n",
    "SELECT * FROM REVIEWS\n",
    "WHERE score > 9;\n",
    "\n",
    "#Count the number of self-released works in high_scores\n",
    "SELECT COUNT(*) FROM high_scores\n",
    "INNER JOIN labels ON labels.reviewid = high_scores.reviewid\n",
    "WHERE label= 'self-released';"
   ]
  },
  {
   "cell_type": "markdown",
   "metadata": {},
   "source": [
    "### Creating a view from other views\n",
    "Views can be created from queries that include other views. This is useful when you have a complex schema, potentially due to normalization, because it helps reduce the JOINS needed. The biggest concern is keeping track of dependencies, specifically how any modifying or dropping of a view may affect other views.\n",
    "\n",
    "In the next few exercises, we'll continue using the Pitchfork reviews data. There are two views of interest in this exercise. top_15_2017 holds the top 15 highest scored reviews published in 2017 with columns reviewid,title, and score. artist_title returns a list of all reviewed titles and their respective artists with columns reviewid, title, and artist. From these views, we want to create a new view that gets the highest scoring artists of 2017."
   ]
  },
  {
   "cell_type": "code",
   "execution_count": null,
   "metadata": {},
   "outputs": [],
   "source": [
    "#Create a view with the top artists in 2017\n",
    "CREATE VIEW top_artists_2017 as\n",
    "#with only one column holding the artist field\n",
    "SELECT artist_title.artist FROM artist_title\n",
    "INNER JOIN top_15_2017\n",
    "ON top_15_2017.reviewid = artist_title.reviewid;\n",
    "\n",
    "#Output the new view\n",
    "SELECT * FROM top_artists_2017;"
   ]
  },
  {
   "cell_type": "markdown",
   "metadata": {},
   "source": [
    "### Granting and revoking access\n",
    "Access control is a key aspect of database management. Not all database users have the same needs and goals, from analysts, clerks, data scientists, to data engineers. As a general rule of thumb, write access should never be the default and only be given when necessary.\n",
    "\n",
    "In the case of our Pitchfork reviews, we don't want all database users to be able to write into the long_reviews view. Instead, the editor should be the only user able to edit this view."
   ]
  },
  {
   "cell_type": "code",
   "execution_count": null,
   "metadata": {},
   "outputs": [],
   "source": [
    "#Revoke everyone's update and insert privileges\n",
    "REVOKE UPDATE, INSERT ON long_reviews FROM PUBLIC; \n",
    "\n",
    "#Grant editor update and insert privileges \n",
    "GRANT UPDATE, INSERT ON long_reviews TO editor; "
   ]
  },
  {
   "cell_type": "markdown",
   "metadata": {},
   "source": [
    "### Redefining a view\n",
    "Unlike inserting and updating, redefining a view doesn't mean modifying the actual data a view holds. Rather, it means modifying the underlying query that makes the view. In the last video, we learned of two ways to redefine a view: (1) CREATE OR REPLACE and (2) DROP then CREATE. CREATE OR REPLACE can only be used under certain conditions.\n",
    "\n",
    "The artist_title view needs to be appended to include a column for the label field from the labels table."
   ]
  },
  {
   "cell_type": "code",
   "execution_count": null,
   "metadata": {},
   "outputs": [],
   "source": [
    "#Redefine the artist_title view to have a label column\n",
    "CREATE OR REPLACE view artist_title AS\n",
    "SELECT reviews.reviewid, reviews.title,artists.artist, labels.label\n",
    "FROM reviews\n",
    "INNER JOIN artists\n",
    "ON artists.reviewid = reviews.reviewid\n",
    "INNER JOIN labels\n",
    "ON labels.reviewid = reviews.reviewid;\n",
    "\n",
    "SELECT * FROM artist_title;"
   ]
  },
  {
   "cell_type": "markdown",
   "metadata": {},
   "source": [
    "### Creating and refreshing a materialized view\n",
    "The syntax for creating materialized and non-materialized views are quite similar because they are both defined by a query. One key difference is that we can refresh materialized views, while no such concept exists for non-materialized views. It's important to know how to refresh a materialized view, otherwise the view will remain a snapshot of the time the view was created.\n",
    "\n",
    "In this exercise, you will create a materialized view from the table genres. A new record will then be inserted into genres. To make sure the view has the latest data, it will have to be refreshed."
   ]
  },
  {
   "cell_type": "code",
   "execution_count": null,
   "metadata": {},
   "outputs": [],
   "source": [
    "#Create a materialized view called genre_count \n",
    "CREATE MATERIALIZED VIEW genre_count AS\n",
    "SELECT genre, COUNT(*) \n",
    "FROM genres\n",
    "GROUP BY genre;\n",
    "\n",
    "INSERT INTO genres\n",
    "VALUES (50000, 'classical');\n",
    "\n",
    "#Refresh genre_count\n",
    "REFRESH MATERIALIZED VIEW genre_count;\n",
    "\n",
    "SELECT * FROM genre_count;"
   ]
  },
  {
   "cell_type": "markdown",
   "metadata": {},
   "source": [
    "### Create a role\n",
    "A database role is an entity that contains information that define the role's privileges and interact with the client authentication system. Roles allow you to give different people (and often groups of people) that interact with your data different levels of access.\n",
    "\n",
    "Imagine you founded a startup. You are about to hire a group of data scientists. You also hired someone named Marta who needs to be able to login to your database. You're also about to hire a database administrator. In this exercise, you will create these roles."
   ]
  },
  {
   "cell_type": "code",
   "execution_count": null,
   "metadata": {},
   "outputs": [],
   "source": [
    "#Create a data scientist role\n",
    "CREATE ROLE data_scientist;"
   ]
  },
  {
   "cell_type": "code",
   "execution_count": null,
   "metadata": {},
   "outputs": [],
   "source": [
    "#Create a role called admin with the ability to create databases (CREATEDB) and to create roles (CREATEROLE).\n",
    "#Create an admin role\n",
    "CREATE ROLE admin WITH CREATEDB CREATEROLE;\n"
   ]
  },
  {
   "cell_type": "markdown",
   "metadata": {},
   "source": [
    "### GRANT privileges and ALTER attributes\n",
    "Once roles are created, you grant them specific access control privileges on objects, like tables and views. Common privileges being SELECT, INSERT, UPDATE, etc.\n",
    "\n",
    "Imagine you're a cofounder of that startup and you want all of your data scientists to be able to update and insert data in the long_reviews view. In this exercise, you will enable those soon-to-be-hired data scientists by granting their role (data_scientist) those privileges. Also, you'll give Marta's role a password."
   ]
  },
  {
   "cell_type": "code",
   "execution_count": null,
   "metadata": {},
   "outputs": [],
   "source": [
    "#Grant data_scientist update and insert privileges\n",
    "GRANT UPDATE, INSERT ON long_reviews TO data_scientist;\n",
    "\n",
    "#Give Marta's role a password\n",
    "ALTER ROLE marta WITH PASSWORD 's3cur3p@ssw0rd';"
   ]
  },
  {
   "cell_type": "markdown",
   "metadata": {},
   "source": [
    "### Add a user role to a group role\n",
    "There are two types of roles: user roles and group roles. By assigning a user role to a group role, a database administrator can add complicated levels of access to their databases with one simple command.\n",
    "\n",
    "For your startup, your search for data scientist hires is taking longer than expected. Fortunately, it turns out that Marta, your recent hire, has previous data science experience and she's willing to chip in the interim. In this exercise, you'll add Marta's user role to the data scientist group role. You'll then remove her after you complete your hiring process."
   ]
  },
  {
   "cell_type": "code",
   "execution_count": null,
   "metadata": {},
   "outputs": [],
   "source": [
    "#Add Marta to the data scientist group\n",
    "GRANT data_scientist TO marta;\n",
    "\n",
    "#Celebrate! You hired data scientists.\n",
    "\n",
    "#Remove Marta from the data scientist group\n",
    "REVOKE data_scientist FROM marta;"
   ]
  },
  {
   "cell_type": "markdown",
   "metadata": {},
   "source": [
    "### Creating vertical partitions\n",
    "In the video, you learned about vertical partitioning and saw an example.\n",
    "\n",
    "For vertical partitioning, there is no specific syntax in PostgreSQL. You have to create a new table with particular columns and copy the data there. Afterward, you can drop the columns you want in the separate partition. If you need to access the full table, you can do so by using a JOIN clause.\n",
    "\n",
    "In this exercise and the next one, you'll be working with the example database called pagila. It's a database that is often used to showcase PostgreSQL features. The database contains several tables. We'll be working with the film table. In this exercise, we'll use the following columns:\n",
    "\n",
    "- film_id: the unique identifier of the film\n",
    "- long_description: a lengthy description of the film"
   ]
  },
  {
   "cell_type": "code",
   "execution_count": null,
   "metadata": {},
   "outputs": [],
   "source": [
    "#Create a new table called film_descriptions\n",
    "CREATE TABLE film_descriptions (\n",
    "    film_id INT,\n",
    "    long_description TEXT\n",
    ");\n",
    "\n",
    "#Copy the descriptions from the film table\n",
    "INSERT INTO film_descriptions\n",
    "SELECT film_id, long_description FROM film;\n",
    "\n",
    "#Drop the descriptions from the original table\n",
    "alter table film\n",
    "drop column long_description;\n",
    "\n",
    "#Join to view the original table\n",
    "SELECT * FROM film \n",
    "JOIN film_descriptions USING(film_id);"
   ]
  },
  {
   "cell_type": "markdown",
   "metadata": {},
   "source": [
    "film_id\ttitle\trental_duration\trental_rate\tlength\treplacement_cost\trating\trelease_year  long_description\n",
    "- 1\tACADEMY DINOSAUR\t6\t0.99\t86\t20.99\tPG\t2019\tA Epic Drama of a Feminist And a Mad Scientist who must Battle a Teacher in The Canadian Rockies\n",
    "- 2\tACE GOLDFINGER\t3\t4.99\t48\t12.99\tG\t2017\tA Astounding Epistle of a Database Administrator And a Explorer who must Find a Car in Ancient China\n",
    "- 3\tADAPTATION HOLES\t7\t2.99\t50\t18.99\tNC-17\t2019\tA Astounding Reflection of a Lumberjack And a Car who must Sink a Lumberjack in A Baloon Factory"
   ]
  },
  {
   "cell_type": "markdown",
   "metadata": {},
   "source": [
    "### Creating horizontal partitions\n",
    "In the video, you also learned about horizontal partitioning.\n",
    "\n",
    "The example of horizontal partitioning showed the syntax necessary to create horizontal partitions in PostgreSQL. If you need a reminder, you can have a look at the slides.\n",
    "\n",
    "In this exercise, however, you'll be using a list partition instead of a range partition. For list partitions, you form partitions by checking whether the partition key is in a list of values or not.\n",
    "\n",
    "To do this, we partition by LIST instead of RANGE. When creating the partitions, you should check if the values are IN a list of values.\n",
    "\n",
    "We'll be using the following columns in this exercise:\n",
    "\n",
    "- film_id: the unique identifier of the film\n",
    "- title: the title of the film\n",
    "- release_year: the year it's released"
   ]
  },
  {
   "cell_type": "code",
   "execution_count": null,
   "metadata": {},
   "outputs": [],
   "source": [
    "#Create a new table called film_partitioned\n",
    "CREATE TABLE film_partitioned (\n",
    "  film_id INT,\n",
    "  title TEXT NOT NULL,\n",
    "  release_year TEXT\n",
    ")\n",
    "PARTITION BY LIST (release_year);\n",
    "\n",
    "#Create the partitions for 2019, 2018, and 2017\n",
    "CREATE TABLE film_2019\n",
    "\tPARTITION OF film_partitioned FOR VALUES IN ('2019');\n",
    "\n",
    "CREATE TABLE film_2018\n",
    "\tPARTITION OF film_partitioned FOR VALUES IN ('2018');\n",
    "\n",
    "CREATE TABLE film_2017\n",
    "\tPARTITION OF film_partitioned FOR VALUES IN ('2017');\n",
    "\n",
    "#Insert the data into film_partitioned\n",
    "INSERT INTO film_partitioned\n",
    "SELECT film_id, title,release_year FROM film;\n",
    "\n",
    "#View film_partitioned\n",
    "SELECT * FROM film_partitioned;"
   ]
  },
  {
   "cell_type": "markdown",
   "metadata": {},
   "source": [
    "film_id\ttitle\trelease_year\n",
    "- 2\tACE GOLDFINGER\t2017\n",
    "- 4\tAFFAIR PREJUDICE\t2017\n",
    "- 5\tAFRICAN EGG\t2018\n",
    "- 7\tAIRPLANE SIERRA\t2018\n",
    "- 10\tALADDIN CALENDAR\t2019\n",
    "- 213\tDATE SPEED\t2019\n"
   ]
  }
 ],
 "metadata": {
  "kernelspec": {
   "display_name": "Python 3",
   "language": "python",
   "name": "python3"
  },
  "language_info": {
   "codemirror_mode": {
    "name": "ipython",
    "version": 3
   },
   "file_extension": ".py",
   "mimetype": "text/x-python",
   "name": "python",
   "nbconvert_exporter": "python",
   "pygments_lexer": "ipython3",
   "version": "3.8.5"
  }
 },
 "nbformat": 4,
 "nbformat_minor": 4
}
