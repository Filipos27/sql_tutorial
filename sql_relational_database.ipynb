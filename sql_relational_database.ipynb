{
 "cells": [
  {
   "cell_type": "markdown",
   "metadata": {},
   "source": [
    "# SQL database tutorial"
   ]
  },
  {
   "cell_type": "markdown",
   "metadata": {},
   "source": [
    "### Query information_schema with SELECT\n",
    "information_schema is a meta-database that holds information about your current database. information_schema has multiple tables you can query with the known SELECT * FROM syntax:\n",
    "\n",
    "tables: information about all tables in your current database\n",
    "columns: information about all columns in all of the tables in your current database\n",
    "…\n",
    "In this exercise, you'll only need information from the 'public' schema, which is specified as the column table_schema of the tables and columns tables. The 'public' schema holds information about user-defined tables and databases. The other types of table_schema hold system information – for this course, you're only interested in user-defined stuff."
   ]
  },
  {
   "cell_type": "code",
   "execution_count": null,
   "metadata": {},
   "outputs": [],
   "source": [
    "#Query the right table in information_schema\n",
    "SELECT table_name \n",
    "FROM information_schema.tables\n",
    "#Specify the correct table_schema value\n",
    "WHERE table_schema = 'public';"
   ]
  },
  {
   "cell_type": "markdown",
   "metadata": {},
   "source": [
    "### Output\n",
    "table_name\n",
    "\n",
    "university_professors"
   ]
  },
  {
   "cell_type": "code",
   "execution_count": null,
   "metadata": {},
   "outputs": [],
   "source": [
    "#Query the right table in information_schema to get columns\n",
    "SELECT column_name, data_type \n",
    "FROM information_schema.columns \n",
    "WHERE table_name = 'university_professors' AND table_schema = 'public';"
   ]
  },
  {
   "cell_type": "markdown",
   "metadata": {},
   "source": [
    "### Output \n",
    "\n",
    "column_name\t      data_type\n",
    "- firstname\ttext\n",
    "- lastname\ttext\n",
    "- university\ttext\n",
    "- university_shortname\ttext\n",
    "- university_city\ttext\n",
    "- function\ttext\n",
    "- organization\ttext\n",
    "- organization_sector\ttext"
   ]
  },
  {
   "cell_type": "markdown",
   "metadata": {},
   "source": [
    "### CREATE your first few TABLEs\n",
    "You'll now start implementing a better database model. For this, you'll create tables for the professors and universities entity types. The other tables will be created for you.\n",
    "\n",
    "The syntax for creating simple tables is as follows:\n",
    "\n",
    "\n",
    "- CREATE TABLE table_name (\n",
    " - column_a data_type,\n",
    " - column_b data_type,\n",
    " - column_c data_type\n",
    "- );\n",
    "\n",
    "\n",
    "\n",
    "Attention: Table and columns names, as well as data types, don't need to be surrounded by quotation marks."
   ]
  },
  {
   "cell_type": "code",
   "execution_count": null,
   "metadata": {},
   "outputs": [],
   "source": [
    "#Create a table for the professors entity type\n",
    "CREATE TABLE professors (\n",
    " firstname text,\n",
    " lastname text\n",
    ");\n",
    "\n",
    "#Print the contents of this table\n",
    "SELECT * \n",
    "FROM professors"
   ]
  },
  {
   "cell_type": "markdown",
   "metadata": {},
   "source": [
    "### ADD a COLUMN with ALTER TABLE\n",
    "Oops! We forgot to add the university_shortname column to the professors table. You've probably already noticed:\n",
    "\n",
    "\n",
    "\n",
    "In chapter 4 of this course, you'll need this column for connecting the professors table with the universities table.\n",
    "\n",
    "However, adding columns to existing tables is easy, especially if they're still empty.\n",
    "\n",
    "To add columns you can use the following SQL query:\n",
    "\n",
    "ALTER TABLE table_name\n",
    "\n",
    "ADD COLUMN column_name data_type;"
   ]
  },
  {
   "cell_type": "code",
   "execution_count": null,
   "metadata": {},
   "outputs": [],
   "source": [
    "#Add the university_shortname column\n",
    "ALTER TABLE professors\n",
    "ADD COLUMN university_shortname text;"
   ]
  },
  {
   "cell_type": "markdown",
   "metadata": {},
   "source": [
    "### RENAME and DROP COLUMNs in affiliations\n",
    "As mentioned in the video, the still empty affiliations table has some flaws. In this exercise, you'll correct them as outlined in the video.\n",
    "\n",
    "You'll use the following queries:\n",
    "\n",
    "To rename columns:\n",
    "\n",
    "- ALTER TABLE table_name\n",
    "- RENAME COLUMN old_name TO new_name;\n",
    "\n",
    "\n",
    "To delete columns:\n",
    "- ALTER TABLE table_name\n",
    "- DROP COLUMN column_name;"
   ]
  },
  {
   "cell_type": "code",
   "execution_count": null,
   "metadata": {},
   "outputs": [],
   "source": [
    "#Rename the organisation column\n",
    "ALTER TABLE affiliations\n",
    "RENAME COLUMN organisation TO organization;"
   ]
  },
  {
   "cell_type": "code",
   "execution_count": null,
   "metadata": {},
   "outputs": [],
   "source": [
    "#Delete the university_shortname column\n",
    "ALTER TABLE affiliations\n",
    "DROP COLUMN university_shortname;"
   ]
  },
  {
   "cell_type": "markdown",
   "metadata": {},
   "source": [
    "### Migrate data with INSERT INTO SELECT DISTINCT\n",
    "Now it's finally time to migrate the data into the new tables. You'll use the following pattern:\n",
    "\n",
    "INSERT INTO ... \n",
    "\n",
    "SELECT DISTINCT ... \n",
    "\n",
    "FROM ...;\n",
    "\n",
    "It can be broken up into two parts:\n",
    "\n",
    "First part:\n",
    "\n",
    "SELECT DISTINCT column_name1, column_name2, ... \n",
    "\n",
    "FROM table_a;\n",
    "\n",
    "This selects all distinct values in table table_a – nothing new for you.\n",
    "\n",
    "Second part:\n",
    "\n",
    "INSERT INTO table_b ...;\n",
    "\n",
    "- Take this part and append it to the first, so it inserts all distinct rows from table_a into table_b.\n",
    "\n",
    "- One last thing: It is important that you run all of the code at the same time once you have filled out the blanks."
   ]
  },
  {
   "cell_type": "code",
   "execution_count": null,
   "metadata": {},
   "outputs": [],
   "source": [
    "#Insert unique professors into the new table\n",
    "INSERT INTO professors \n",
    "SELECT DISTINCT firstname, lastname, university_shortname \n",
    "FROM university_professors;"
   ]
  },
  {
   "cell_type": "code",
   "execution_count": null,
   "metadata": {},
   "outputs": [],
   "source": [
    "#Insert unique affiliations into the new table\n",
    "INSERT  INTO affiliations \n",
    "SELECT DISTINCT firstname, lastname, function, organization \n",
    "FROM university_professors;"
   ]
  },
  {
   "cell_type": "markdown",
   "metadata": {},
   "source": [
    "### Delete tables with DROP TABLE\n",
    "Obviously, the university_professors table is now no longer needed and can safely be deleted.\n",
    "\n",
    "For table deletion, you can use the simple command:\n",
    "\n",
    "DROP TABLE table_name;"
   ]
  },
  {
   "cell_type": "code",
   "execution_count": null,
   "metadata": {},
   "outputs": [],
   "source": [
    "#Delete the university_professors table\n",
    "DROP TABLE university_professors;"
   ]
  },
  {
   "cell_type": "markdown",
   "metadata": {},
   "source": [
    "### Conforming with data types\n",
    "For demonstration purposes, I created a fictional database table that only holds three records. The columns have the data types date, integer, and text, respectively.\n",
    "\n",
    "\n",
    "CREATE TABLE transactions (\n",
    "\n",
    " transaction_date date, \n",
    " \n",
    " amount integer,\n",
    " \n",
    " fee text\n",
    " \n",
    ");\n",
    "\n",
    "- Have a look at the contents of the transactions table.\n",
    "\n",
    "- The transaction_date accepts date values. According to the PostgreSQL documentation, it accepts values in the form of YYYY-MM-DD, DD/MM/YY, and so forth.\n",
    "\n",
    "- Both columns amount and fee appear to be numeric, however, the latter is modeled as text – which you will account for in the next exercise."
   ]
  },
  {
   "cell_type": "code",
   "execution_count": null,
   "metadata": {},
   "outputs": [],
   "source": [
    "#Let's add a record to the table\n",
    "INSERT INTO transactions (transaction_date, amount, fee) \n",
    "VALUES ('2018-09-24', 5454, '30');"
   ]
  },
  {
   "cell_type": "markdown",
   "metadata": {},
   "source": [
    "### Type CASTs\n",
    "In the video, you saw that type casts are a possible solution for data type issues. If you know that a certain column stores numbers as text, you can cast the column to a numeric form, i.e. to integer.\n",
    "\n",
    "SELECT CAST(some_column AS integer)\n",
    "\n",
    "FROM table;\n",
    "\n",
    "Now, the some_column column is temporarily represented as integer instead of text, meaning that you can perform numeric calculations on the column."
   ]
  },
  {
   "cell_type": "code",
   "execution_count": null,
   "metadata": {},
   "outputs": [],
   "source": [
    "#Calculate the net amount as amount + fee\n",
    "SELECT transaction_date, amount + CAST(fee as integer) AS net_amount \n",
    "FROM transactions;"
   ]
  },
  {
   "cell_type": "markdown",
   "metadata": {},
   "source": [
    "### Change types with ALTER COLUMN\n",
    "The syntax for changing the data type of a column is straightforward. The following code changes the data type of the column_name column in table_name to varchar(10):\n",
    "\n",
    "ALTER TABLE table_name\n",
    "\n",
    "ALTER COLUMN column_name\n",
    "\n",
    "TYPE varchar(10)\n",
    "\n",
    "Now it's time to start adding constraints to your database."
   ]
  },
  {
   "cell_type": "code",
   "execution_count": null,
   "metadata": {},
   "outputs": [],
   "source": [
    "#Select the university_shortname column\n",
    "SELECT DISTINCT(university_shortname) \n",
    "FROM professors;"
   ]
  },
  {
   "cell_type": "code",
   "execution_count": null,
   "metadata": {},
   "outputs": [],
   "source": [
    "#Specify the correct fixed-length character type\n",
    "ALTER TABLE professors\n",
    "ALTER COLUMN university_shortname\n",
    "TYPE char(3);"
   ]
  },
  {
   "cell_type": "code",
   "execution_count": null,
   "metadata": {},
   "outputs": [],
   "source": [
    "#Change the type of firstname\n",
    "ALTER TABLE professors\n",
    "ALTER COLUMN firstname\n",
    "TYPE varchar(64);"
   ]
  },
  {
   "cell_type": "markdown",
   "metadata": {},
   "source": [
    "### Convert types USING a function\n",
    "If you don't want to reserve too much space for a certain varchar column, you can truncate the values before converting its type.\n",
    "\n",
    "For this, you can use the following syntax:\n",
    "\n",
    "ALTER TABLE table_name\n",
    "\n",
    "ALTER COLUMN column_name\n",
    "\n",
    "TYPE varchar(x)\n",
    "\n",
    "USING SUBSTRING(column_name FROM 1 FOR x)\n",
    "\n",
    "- You should read it like this: Because you want to reserve only x characters for column_name, you have to retain a SUBSTRING of every value, i.e. the first x characters of it, and throw away the rest. This way, the values will fit the varchar(x) requirement."
   ]
  },
  {
   "cell_type": "code",
   "execution_count": null,
   "metadata": {},
   "outputs": [],
   "source": [
    "#Convert the values in firstname to a max. of 16 characters\n",
    "ALTER TABLE professors \n",
    "ALTER COLUMN firstname \n",
    "TYPE varchar(16)\n",
    "USING SUBSTRING (firstname FROM 1 FOR 16)"
   ]
  },
  {
   "cell_type": "markdown",
   "metadata": {},
   "source": [
    "### Disallow NULL values with SET NOT NULL\n",
    "The professors table is almost ready now. However, it still allows for NULLs to be entered. Although some information might be missing about some professors, there's certainly columns that always need to be specified."
   ]
  },
  {
   "cell_type": "code",
   "execution_count": null,
   "metadata": {},
   "outputs": [],
   "source": [
    "#Disallow NULL values in firstname\n",
    "ALTER TABLE professors \n",
    "ALTER COLUMN firstname SET NOT NULL;"
   ]
  },
  {
   "cell_type": "markdown",
   "metadata": {},
   "source": [
    "### Make your columns UNIQUE with ADD CONSTRAINT\n",
    "As seen in the video, you add the UNIQUE keyword after the column_name that should be unique. This, of course, only works for new tables:\n",
    "\n",
    "CREATE TABLE table_name (\n",
    "\n",
    " column_name UNIQUE\n",
    " \n",
    ");\n",
    "\n",
    "If you want to add a unique constraint to an existing table, you do it like that:\n",
    "\n",
    "ALTER TABLE table_name\n",
    "\n",
    "ADD CONSTRAINT some_name UNIQUE(column_name);\n",
    "\n",
    "- Note that this is different from the ALTER COLUMN syntax for the not-null constraint. Also, you have to give the constraint a name some_name."
   ]
  },
  {
   "cell_type": "code",
   "execution_count": null,
   "metadata": {},
   "outputs": [],
   "source": [
    "#Make universities.university_shortname unique\n",
    "ALTER TABLE universities\n",
    "ADD CONSTRAINT university_shortname_unq UNIQUE(university_shortname);"
   ]
  },
  {
   "cell_type": "markdown",
   "metadata": {},
   "source": [
    "### Get to know SELECT COUNT DISTINCT\n",
    "Your database doesn't have any defined keys so far, and you don't know which columns or combinations of columns are suited as keys.\n",
    "\n",
    "There's a simple way of finding out whether a certain column (or a combination) contains only unique values – and thus identifies the records in the table.\n",
    "\n",
    "You already know the SELECT DISTINCT query from the first chapter. Now you just have to wrap everything within the COUNT() function and PostgreSQL will return the number of unique rows for the given columns:\n",
    "\n",
    "SELECT COUNT(DISTINCT(column_a, column_b, ...))\n",
    "\n",
    "FROM table;"
   ]
  },
  {
   "cell_type": "code",
   "execution_count": null,
   "metadata": {},
   "outputs": [],
   "source": [
    "#Count the number of distinct values in the university_city column\n",
    "SELECT COUNT(DISTINCT(university_city)) \n",
    "FROM universities;"
   ]
  },
  {
   "cell_type": "markdown",
   "metadata": {},
   "source": [
    "### Identify keys with SELECT COUNT DISTINCT\n",
    "There's a very basic way of finding out what qualifies for a key in an existing, populated table:\n",
    "\n",
    "- Count the distinct records for all possible combinations of columns. If the resulting number x equals the number of all rows in the table for a combination, you have discovered a superkey.\n",
    "\n",
    "- Then remove one column after another until you can no longer remove columns without seeing the number x decrease. If that is the case, you have discovered a (candidate) key.\n",
    "\n",
    "The table professors has 551 rows. It has only one possible candidate key, which is a combination of two attributes. You might want to try different combinations using the \"Run code\" button. Once you have found the solution, you can submit your answer."
   ]
  },
  {
   "cell_type": "code",
   "execution_count": null,
   "metadata": {},
   "outputs": [],
   "source": [
    "#Try out different combinations\n",
    "SELECT COUNT(DISTINCT(firstname, lastname)) \n",
    "FROM professors;"
   ]
  },
  {
   "cell_type": "markdown",
   "metadata": {},
   "source": [
    "### ADD key CONSTRAINTs to the tables\n",
    "Two of the tables in your database already have well-suited candidate keys consisting of one column each: organizations and universities with the organization and university_shortname columns, respectively.\n",
    "\n",
    "In this exercise, you'll rename these columns to id using the RENAME COLUMN command and then specify primary key constraints for them. This is as straightforward as adding unique constraints (see the last exercise of Chapter 2):\n",
    "\n",
    "ALTER TABLE table_name\n",
    "\n",
    "ADD CONSTRAINT some_name PRIMARY KEY (column_name)\n",
    "\n",
    "Note that you can also specify more than one column in the brackets."
   ]
  },
  {
   "cell_type": "code",
   "execution_count": null,
   "metadata": {},
   "outputs": [],
   "source": [
    "#Rename the organization column to id\n",
    "ALTER TABLE organizations\n",
    "RENAME COLUMN organization TO id;\n",
    "\n",
    "#Make id a primary key\n",
    "ALTER TABLE organizations\n",
    "ADD CONSTRAINT organization_pk PRIMARY KEY (id);"
   ]
  },
  {
   "cell_type": "markdown",
   "metadata": {},
   "source": [
    "### Add a SERIAL surrogate key\n",
    "Since there's no single column candidate key in professors (only a composite key candidate consisting of firstname, lastname), you'll add a new column id to that table.\n",
    "\n",
    "This column has a special data type serial, which turns the column into an auto-incrementing number. This means that, whenever you add a new professor to the table, it will automatically get an id that does not exist yet in the table: a perfect primary key!"
   ]
  },
  {
   "cell_type": "code",
   "execution_count": null,
   "metadata": {},
   "outputs": [],
   "source": [
    "#Add the new column to the table\n",
    "ALTER TABLE professors \n",
    "ADD COLUMN id serial;\n",
    "\n",
    "#Make id a primary key\n",
    "ALTER TABLE professors \n",
    "ADD CONSTRAINT professors_pkey PRIMARY KEY (id);\n",
    "\n",
    "#Have a look at the first 10 rows of professors\n",
    "SELECT * FROM professors\n",
    "LIMIT 10;"
   ]
  },
  {
   "cell_type": "markdown",
   "metadata": {},
   "source": [
    "### CONCATenate columns to a surrogate key\n",
    "Another strategy to add a surrogate key to an existing table is to concatenate existing columns with the CONCAT() function.\n",
    "\n",
    "Let's think of the following example table:\n",
    "\n",
    "CREATE TABLE cars (\n",
    "\n",
    " make varchar(64) NOT NULL,\n",
    " \n",
    " model varchar(64) NOT NULL,\n",
    " \n",
    " mpg integer NOT NULL\n",
    " \n",
    ")\n",
    "\n",
    "The table is populated with 10 rows of completely fictional data.\n",
    "\n",
    "Unfortunately, the table doesn't have a primary key yet. None of the columns consists of only unique values, so some columns can be combined to form a key.\n",
    "\n",
    "In the course of the following exercises, you will combine make and model into such a surrogate key."
   ]
  },
  {
   "cell_type": "code",
   "execution_count": null,
   "metadata": {},
   "outputs": [],
   "source": [
    "#Count the number of distinct rows with columns make, model\n",
    "SELECT COUNT(DISTINCT(make, model)) \n",
    "FROM cars;\n",
    "\n",
    "#Add the id column\n",
    "ALTER TABLE cars\n",
    "ADD COLUMN id varchar(128);\n",
    "\n",
    "#Update id with make + model\n",
    "UPDATE cars\n",
    "SET id = CONCAT(make, model);\n",
    "\n",
    "#Make id a primary key\n",
    "ALTER TABLE cars\n",
    "ADD CONSTRAINT id_pk primary key(id);\n",
    "\n",
    "#Have a look at the table\n",
    "SELECT * FROM cars;"
   ]
  },
  {
   "cell_type": "markdown",
   "metadata": {},
   "source": [
    "### Test your knowledge before advancing\n",
    "Before you move on to the next chapter, let's quickly review what you've learned so far about attributes and key constraints. If you're unsure about the answer, please quickly review chapters 2 and 3, respectively.\n",
    "\n",
    "Let's think of an entity type \"student\". A student has:\n",
    "\n",
    "- a last name consisting of up to 128 characters (required),\n",
    "- a unique social security number, consisting only of integers, that should serve as a key,\n",
    "- a phone number of fixed length 12, consisting of numbers and characters (but some students don't have one)."
   ]
  },
  {
   "cell_type": "code",
   "execution_count": null,
   "metadata": {},
   "outputs": [],
   "source": [
    "#Create the table\n",
    "CREATE TABLE students (\n",
    "  last_name varchar(128) NOT NULL,\n",
    "  ssn integer primary key,\n",
    "  phone_no char(12)\n",
    ");"
   ]
  },
  {
   "cell_type": "markdown",
   "metadata": {},
   "source": [
    "### REFERENCE a table with a FOREIGN KEY\n",
    "In your database, you want the professors table to reference the universities table. You can do that by specifying a column in professors table that references a column in the universities table.\n",
    "\n",
    "As just shown in the video, the syntax for that looks like this:\n",
    "\n",
    "ALTER TABLE a \n",
    "\n",
    "ADD CONSTRAINT a_fkey FOREIGN KEY (b_id) REFERENCES b (id);\n",
    "\n",
    "Table a should now refer to table b, via b_id, which points to id. a_fkey is, as usual, a constraint name you can choose on your own.\n",
    "\n",
    "Pay attention to the naming convention employed here: Usually, a foreign key referencing another primary key with name id is named x_id, where x is the name of the referencing table in the singular form."
   ]
  },
  {
   "cell_type": "code",
   "execution_count": null,
   "metadata": {},
   "outputs": [],
   "source": [
    "#Rename the university_shortname column\n",
    "ALTER TABLE professors\n",
    "RENAME COLUMN university_shortname TO university_id;\n",
    "\n",
    "#Add a foreign key on professors referencing universities\n",
    "ALTER TABLE professors \n",
    "ADD CONSTRAINT professors_fkey FOREIGN KEY (university_id) REFERENCES universities (id);"
   ]
  },
  {
   "cell_type": "markdown",
   "metadata": {},
   "source": [
    "### Explore foreign key constraints\n",
    "Foreign key constraints help you to keep order in your database mini-world. In your database, for instance, only professors belonging to Swiss universities should be allowed, as only Swiss universities are part of the universities table.\n",
    "\n",
    "The foreign key on professors referencing universities you just created thus makes sure that only existing universities can be specified when inserting new data. Let's test this!"
   ]
  },
  {
   "cell_type": "markdown",
   "metadata": {},
   "source": [
    "### JOIN tables linked by a foreign key\n",
    "Let's join these two tables to analyze the data further!\n",
    "\n",
    "You might already know how SQL joins work from the Intro to SQL for Data Science course (last exercise) or from Joining Data in PostgreSQL.\n",
    "\n",
    "Here's a quick recap on how joins generally work:\n",
    "\n",
    "SELECT ...\n",
    "\n",
    "FROM table_a\n",
    "\n",
    "JOIN table_b\n",
    "\n",
    "ON ...\n",
    "\n",
    "WHERE ...\n",
    "\n",
    "While foreign keys and primary keys are not strictly necessary for join queries, they greatly help by telling you what to expect. For instance, you can be sure that records referenced from table A will always be present in table B – so a join from table A will always find something in table B. If not, the foreign key constraint would be violated."
   ]
  },
  {
   "cell_type": "code",
   "execution_count": null,
   "metadata": {},
   "outputs": [],
   "source": [
    "#Select all professors working for universities in the city of Zurich\n",
    "SELECT professors.lastname, universities.id, universities.university_city\n",
    "FROM professors\n",
    "JOIN universities\n",
    "ON professors.university_id = universities.id\n",
    "where universities.university_city = 'Zurich';"
   ]
  },
  {
   "cell_type": "markdown",
   "metadata": {},
   "source": [
    "### Add foreign keys to the \"affiliations\" table\n",
    "At the moment, the affiliations table has the structure {firstname, lastname, function, organization}, as you can see in the preview at the bottom right. In the next three exercises, you're going to turn this table into the form {professor_id, organization_id, function}, with professor_id and organization_id being foreign keys that point to the respective tables.\n",
    "\n",
    "You're going to transform the affiliations table in-place, i.e., without creating a temporary table to cache your intermediate results."
   ]
  },
  {
   "cell_type": "code",
   "execution_count": null,
   "metadata": {},
   "outputs": [],
   "source": [
    "#Add a professor_id column\n",
    "ALTER TABLE affiliations\n",
    "ADD COLUMN professor_id integer REFERENCES professors (id);\n",
    "\n",
    "#Rename the organization column to organization_id\n",
    "ALTER TABLE affiliations\n",
    "RENAME organization TO organization_id;\n",
    "\n",
    "#Add a foreign key on organization_id\n",
    "ALTER TABLE affiliations\n",
    "ADD CONSTRAINT affiliations_organization_fkey FOREIGN KEY (organization_id) REFERENCES organizations (id);"
   ]
  },
  {
   "cell_type": "markdown",
   "metadata": {},
   "source": [
    "### Populate the \"professor_id\" column\n",
    "Now it's time to also populate professors_id. You'll take the ID directly from professors.\n",
    "\n",
    "Here's a way to update columns of a table based on values in another table:\n",
    "\n",
    "UPDATE table_a\n",
    "\n",
    "SET column_to_update = table_b.column_to_update_from\n",
    "\n",
    "FROM table_b\n",
    "\n",
    "WHERE condition1 AND condition2 AND ...;\n",
    "\n",
    "This query does the following:\n",
    "\n",
    "For each row in table_a, find the corresponding row in table_b where condition1, condition2, etc., are met.\n",
    "Set the value of column_to_update to the value of column_to_update_from (from that corresponding row).\n",
    "The conditions usually compare other columns of both tables, e.g. table_a.some_column = table_b.some_column. Of course, this query only makes sense if there is only one matching row in table_b."
   ]
  },
  {
   "cell_type": "code",
   "execution_count": null,
   "metadata": {},
   "outputs": [],
   "source": [
    "#Update professor_id to professors.id where firstname, lastname correspond to rows in professors\n",
    "UPDATE affiliations\n",
    "SET professor_id = professors.id\n",
    "FROM professors\n",
    "WHERE affiliations.firstname = professors.firstname AND affiliations.lastname = professors.lastname;"
   ]
  },
  {
   "cell_type": "markdown",
   "metadata": {},
   "source": [
    "### Change the referential integrity behavior of a key\n",
    "So far, you implemented three foreign key constraints:\n",
    "\n",
    "- professors.university_id to universities.id\n",
    "- affiliations.organization_id to organizations.id\n",
    "- affiliations.professor_id to professors.id\n",
    "\n",
    "These foreign keys currently have the behavior ON DELETE NO ACTION. Here, you're going to change that behavior for the column referencing organizations from affiliations. If an organization is deleted, all its affiliations (by any professor) should also be deleted.\n",
    "\n",
    "Altering a key constraint doesn't work with ALTER COLUMN. Instead, you have to DROP the key constraint and then ADD a new one with a different ON DELETE behavior.\n",
    "\n",
    "For deleting constraints, though, you need to know their name. This information is also stored in information_schema."
   ]
  },
  {
   "cell_type": "code",
   "execution_count": null,
   "metadata": {},
   "outputs": [],
   "source": [
    "#Identify the correct constraint name\n",
    "SELECT constraint_name, table_name, constraint_type\n",
    "FROM information_schema.table_constraints\n",
    "WHERE constraint_type = 'FOREIGN KEY';\n",
    "\n",
    "#Drop the right foreign key constraint\n",
    "ALTER TABLE affiliations\n",
    "DROP CONSTRAINT affiliations_organization_id_fkey;\n",
    "\n",
    "#Add a new foreign key constraint from affiliations to organizations which cascades deletion\n",
    "ALTER TABLE affiliations\n",
    "ADD CONSTRAINT affiliations_organization_id_fkey FOREIGN KEY (organization_id) REFERENCES organizations (id) ON DELETE CASCADE;\n",
    "\n",
    "#Delete an organization \n",
    "DELETE FROM organizations \n",
    "WHERE id = 'CUREM';\n",
    "\n",
    "#Check that no more affiliations with this organization exist\n",
    "SELECT * FROM affiliations\n",
    "WHERE organization_id = 'CUREM';"
   ]
  },
  {
   "cell_type": "markdown",
   "metadata": {},
   "source": [
    "### Count affiliations per university\n",
    "Now that your data is ready for analysis, let's run some exemplary SQL queries on the database. You'll now use already known concepts such as grouping by columns and joining tables.\n",
    "\n",
    "In this exercise, you will find out which university has the most affiliations (through its professors). For that, you need both affiliations and professors tables, as the latter also holds the university_id.\n",
    "\n",
    "As a quick repetition, remember that joins have the following structure:\n",
    "\n",
    "SELECT table_a.column1, table_a.column2, table_b.column1, ... \n",
    "\n",
    "FROM table_a\n",
    "\n",
    "JOIN table_b \n",
    "\n",
    "ON table_a.column = table_b.column\n",
    "\n",
    "This results in a combination of table_a and table_b, but only with rows where table_a.column is equal to table_b.column."
   ]
  },
  {
   "cell_type": "code",
   "execution_count": null,
   "metadata": {},
   "outputs": [],
   "source": [
    "#Count the total number of affiliations per university\n",
    "SELECT count(*), professors.university_id \n",
    "FROM affiliations\n",
    "JOIN professors\n",
    "ON affiliations.professor_id = professors.id\n",
    "#Group by the university ids of professors\n",
    "GROUP BY professors.university_id\n",
    "Order by count DESC;"
   ]
  },
  {
   "cell_type": "code",
   "execution_count": null,
   "metadata": {},
   "outputs": [],
   "source": []
  }
 ],
 "metadata": {
  "kernelspec": {
   "display_name": "Python 3",
   "language": "python",
   "name": "python3"
  },
  "language_info": {
   "codemirror_mode": {
    "name": "ipython",
    "version": 3
   },
   "file_extension": ".py",
   "mimetype": "text/x-python",
   "name": "python",
   "nbconvert_exporter": "python",
   "pygments_lexer": "ipython3",
   "version": "3.8.5"
  }
 },
 "nbformat": 4,
 "nbformat_minor": 4
}
